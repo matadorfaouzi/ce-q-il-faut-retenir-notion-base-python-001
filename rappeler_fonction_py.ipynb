{
 "cells": [
  {
   "cell_type": "code",
   "execution_count": 1,
   "id": "82bb6ed0-7739-4f16-98e4-bf066df4dc69",
   "metadata": {},
   "outputs": [],
   "source": [
    "import statestique_listes as desc"
   ]
  },
  {
   "cell_type": "code",
   "execution_count": 2,
   "id": "41574480-5c0f-4ab0-aec5-39e02d099717",
   "metadata": {},
   "outputs": [
    {
     "data": {
      "text/plain": [
       "{'minimum': 800,\n",
       " 'maximum': 3000,\n",
       " 'somme': 10180,\n",
       " \"nembre d'elements\": 6,\n",
       " 'moyenne': 1696.6666666666667}"
      ]
     },
     "execution_count": 2,
     "metadata": {},
     "output_type": "execute_result"
    }
   ],
   "source": [
    "desc.statlist([1000, 800, 1200, 1480, 2700, 3000])"
   ]
  },
  {
   "cell_type": "code",
   "execution_count": 1,
   "id": "fc2bc6db-5efb-424e-93d9-6ce6c9f43ac4",
   "metadata": {},
   "outputs": [],
   "source": [
    "from statestique_listes import statlist"
   ]
  },
  {
   "cell_type": "code",
   "execution_count": 2,
   "id": "8c6bbb2b-87a8-427c-96c1-66839f19112b",
   "metadata": {},
   "outputs": [
    {
     "data": {
      "text/plain": [
       "{'minimum': 800,\n",
       " 'maximum': 3000,\n",
       " 'somme': 10180,\n",
       " \"nembre d'elements\": 6,\n",
       " 'moyenne': 1696.6666666666667}"
      ]
     },
     "execution_count": 2,
     "metadata": {},
     "output_type": "execute_result"
    }
   ],
   "source": [
    "statlist([1000, 800, 1200, 1480, 2700, 3000])"
   ]
  },
  {
   "cell_type": "code",
   "execution_count": 3,
   "id": "c5260116-ab6f-4a47-a970-724df9b81998",
   "metadata": {},
   "outputs": [],
   "source": [
    "import math"
   ]
  },
  {
   "cell_type": "code",
   "execution_count": 4,
   "id": "b411f62e-35f4-44a0-849c-d1c8d440a838",
   "metadata": {},
   "outputs": [
    {
     "data": {
      "text/plain": [
       "6"
      ]
     },
     "execution_count": 4,
     "metadata": {},
     "output_type": "execute_result"
    }
   ],
   "source": [
    "math.factorial(3)"
   ]
  },
  {
   "cell_type": "code",
   "execution_count": null,
   "id": "41bac6c2-d735-4f9f-a927-5613f1b2148d",
   "metadata": {},
   "outputs": [],
   "source": []
  }
 ],
 "metadata": {
  "kernelspec": {
   "display_name": "Python 3 (ipykernel)",
   "language": "python",
   "name": "python3"
  },
  "language_info": {
   "codemirror_mode": {
    "name": "ipython",
    "version": 3
   },
   "file_extension": ".py",
   "mimetype": "text/x-python",
   "name": "python",
   "nbconvert_exporter": "python",
   "pygments_lexer": "ipython3",
   "version": "3.11.7"
  }
 },
 "nbformat": 4,
 "nbformat_minor": 5
}
