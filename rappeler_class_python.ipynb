{
 "cells": [
  {
   "cell_type": "code",
   "execution_count": 2,
   "id": "d6a329ce-7b63-4b46-b4ca-979dc40cbaca",
   "metadata": {},
   "outputs": [],
   "source": [
    "import classplayer as cla"
   ]
  },
  {
   "cell_type": "code",
   "execution_count": 3,
   "id": "e1d4445a-68bd-4c97-a18d-701b86a92c49",
   "metadata": {},
   "outputs": [],
   "source": [
    "P1,P2 = cla.Player(\"Maradona\",10), cla.Player(\"Ruissi\",30)"
   ]
  },
  {
   "cell_type": "code",
   "execution_count": 4,
   "id": "93b12c4a-e893-44d2-ad63-137673f47ed8",
   "metadata": {},
   "outputs": [
    {
     "name": "stdout",
     "output_type": "stream",
     "text": [
      "Name player in this moment is : Maradona this hit points is 10\n",
      "Name player in this moment is : Ruissi this hit points is 30\n",
      "this hit points is  5\n",
      "Name player in this moment is : Maradona this hit points is 5\n"
     ]
    }
   ],
   "source": [
    "P1.Player_courant()\n",
    "P2.Player_courant()\n",
    "x = P1.take_damage(5)\n",
    "P1.Player_courant()"
   ]
  },
  {
   "cell_type": "code",
   "execution_count": null,
   "id": "0d94d400-042d-46e6-a498-03fcd45a30d0",
   "metadata": {},
   "outputs": [],
   "source": []
  }
 ],
 "metadata": {
  "kernelspec": {
   "display_name": "Python 3 (ipykernel)",
   "language": "python",
   "name": "python3"
  },
  "language_info": {
   "codemirror_mode": {
    "name": "ipython",
    "version": 3
   },
   "file_extension": ".py",
   "mimetype": "text/x-python",
   "name": "python",
   "nbconvert_exporter": "python",
   "pygments_lexer": "ipython3",
   "version": "3.11.7"
  }
 },
 "nbformat": 4,
 "nbformat_minor": 5
}
